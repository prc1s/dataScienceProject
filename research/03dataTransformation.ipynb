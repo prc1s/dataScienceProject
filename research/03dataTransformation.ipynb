{
 "cells": [
  {
   "cell_type": "code",
   "execution_count": 1,
   "id": "cd8fc168",
   "metadata": {},
   "outputs": [],
   "source": [
    "import os"
   ]
  },
  {
   "cell_type": "code",
   "execution_count": 2,
   "id": "5e3464b9",
   "metadata": {},
   "outputs": [
    {
     "data": {
      "text/plain": [
       "'/Users/hh/MLops/dataScienceProject'"
      ]
     },
     "execution_count": 2,
     "metadata": {},
     "output_type": "execute_result"
    }
   ],
   "source": [
    "os.chdir(\"../\")\n",
    "%pwd"
   ]
  },
  {
   "cell_type": "code",
   "execution_count": 11,
   "id": "6a586d8b",
   "metadata": {},
   "outputs": [],
   "source": [
    "from dataclasses import dataclass\n",
    "from pathlib import Path\n",
    "\n",
    "@dataclass\n",
    "class DataTransformationConfig:\n",
    "    root_dir: Path\n",
    "    data_path: Path\n",
    "    target_column: str\n",
    "    cleaned_data: Path"
   ]
  },
  {
   "cell_type": "code",
   "execution_count": 12,
   "id": "19b1b0ff",
   "metadata": {},
   "outputs": [],
   "source": [
    "from src.datascience.constants import *\n",
    "from src.datascience.utils.common import read_yaml, create_directories"
   ]
  },
  {
   "cell_type": "code",
   "execution_count": 13,
   "id": "794c6b05",
   "metadata": {},
   "outputs": [],
   "source": [
    "class ConfigurationManager:\n",
    "    def __init__(self,\n",
    "                 config_file_path=CONFIG_FILE_PATH,\n",
    "                 params_file_path=PARAMS_FILE_PATH,\n",
    "                 schema_file_path=SCHEMA_FILE_PATH):\n",
    "        self.config=read_yaml(config_file_path)\n",
    "        self.params=read_yaml(params_file_path)\n",
    "        self.schema=read_yaml(schema_file_path)\n",
    "        create_directories([self.config.artifacts_root])\n",
    "\n",
    "    def get_data_transformation(self) -> DataTransformationConfig:\n",
    "        config=self.config.data_transformation\n",
    "        schema = self.schema.TARGET_COLUMN\n",
    "        create_directories([config.root_dir])\n",
    "\n",
    "        data_transformation_config=DataTransformationConfig(\n",
    "            root_dir=config.root_dir,\n",
    "            data_path=config.data_path,\n",
    "            target_column = schema.name,\n",
    "            cleaned_data=config.cleaned_data\n",
    "        )\n",
    "        return data_transformation_config\n"
   ]
  },
  {
   "cell_type": "code",
   "execution_count": 14,
   "id": "e3c80c45",
   "metadata": {},
   "outputs": [],
   "source": [
    "import os\n",
    "from src.datascience import logger\n",
    "import pandas as pd\n",
    "from sklearn.model_selection import train_test_split\n",
    "import numpy as np"
   ]
  },
  {
   "cell_type": "code",
   "execution_count": 15,
   "id": "e4284dde",
   "metadata": {},
   "outputs": [],
   "source": [
    "class DataTransformation:\n",
    "    def __init__(self, config: DataTransformationConfig):\n",
    "        self.config = config\n",
    "\n",
    "    def preprocess_data(self):\n",
    "        df = pd.read_csv(self.config.data_path)\n",
    "\n",
    "        target = self.config.target_column\n",
    "        if target not in df.columns:\n",
    "            raise ValueError(f\"Target column '{target}' not found.\")\n",
    "\n",
    "        if \"Sex\" in df.columns:\n",
    "            sex_norm = (\n",
    "                df[\"Sex\"].astype(str).str.strip().str.upper()\n",
    "                .replace({\"MALE\": \"M\", \"FEMALE\": \"F\"})\n",
    "            )\n",
    "            df[\"Sex\"] = sex_norm.map({\"M\": 1, \"F\": 0}).astype(\"float64\")\n",
    "\n",
    "        if \"ExerciseAngina\" in df.columns:\n",
    "            ang_norm = df[\"ExerciseAngina\"].astype(str).str.strip().str.upper()\n",
    "            df[\"ExerciseAngina\"] = ang_norm.map({\"Y\": 1, \"N\": 0}).astype(\"float64\")\n",
    "\n",
    "        cat_cols = []\n",
    "        for c in [\"ChestPainType\", \"RestingECG\", \"ST_Slope\"]:\n",
    "            if c in df.columns:\n",
    "                cat_cols.append(c)\n",
    "\n",
    "        if cat_cols:\n",
    "            df = pd.get_dummies(df, columns=cat_cols, drop_first=True, dtype=\"float64\")\n",
    "\n",
    "        for c in df.columns:\n",
    "            if c != target:\n",
    "                df[c] = pd.to_numeric(df[c], errors=\"coerce\")\n",
    "\n",
    "        os.makedirs(os.path.dirname(self.config.cleaned_data), exist_ok=True)\n",
    "        df.to_csv(self.config.cleaned_data, index=False)\n",
    "        logger.info(f\"Saved cleaned dataset → {self.config.cleaned_data}\")\n",
    "\n",
    "\n",
    "    def train_test_split(self):\n",
    "        data = pd.read_csv(self.config.cleaned_data)\n",
    "\n",
    "        train, test = train_test_split(data)\n",
    "        train.to_csv(os.path.join(self.config.root_dir, \"train.csv\"), index=False)\n",
    "        test.to_csv(os.path.join(self.config.root_dir, \"test.csv\"), index=False)\n",
    "        logger.info(\"Data Splitted into training and testing sets\")\n",
    "        logger.info(f\"train set shape {train.shape}\")\n",
    "        logger.info(f\"test set shape {test.shape}\")\n",
    "\n"
   ]
  },
  {
   "cell_type": "code",
   "execution_count": 16,
   "id": "b277dd9a",
   "metadata": {},
   "outputs": [
    {
     "name": "stdout",
     "output_type": "stream",
     "text": [
      "[2025-08-10 13:58:56,316: INFO: common: yaml file config/config.yaml is loaded successfully]\n",
      "[2025-08-10 13:58:56,318: INFO: common: yaml file params.yaml is loaded successfully]\n",
      "[2025-08-10 13:58:56,321: INFO: common: yaml file schema.yaml is loaded successfully]\n",
      "[2025-08-10 13:58:56,322: INFO: common: created directory at artifacts]\n",
      "[2025-08-10 13:58:56,323: INFO: common: created directory at artifacts/data_transformation]\n",
      "[2025-08-10 13:58:56,340: INFO: 2903973266: Saved cleaned dataset → artifacts/data_transformation/cleaned_data.csv]\n",
      "[2025-08-10 13:58:56,356: INFO: 2903973266: Data Splitted into training and testing sets]\n",
      "[2025-08-10 13:58:56,357: INFO: 2903973266: train set shape (688, 16)]\n",
      "[2025-08-10 13:58:56,358: INFO: 2903973266: test set shape (230, 16)]\n"
     ]
    }
   ],
   "source": [
    "try:\n",
    "    obj = ConfigurationManager()\n",
    "    data_transformation_config = obj.get_data_transformation()\n",
    "    data_transformation = DataTransformation(data_transformation_config)\n",
    "    data_transformation.preprocess_data()\n",
    "    data_transformation.train_test_split()\n",
    "except Exception as e:\n",
    "    logger.exception(e)\n",
    "    raise e"
   ]
  },
  {
   "cell_type": "code",
   "execution_count": null,
   "id": "010bdcfc",
   "metadata": {},
   "outputs": [],
   "source": []
  },
  {
   "cell_type": "code",
   "execution_count": null,
   "id": "dfc088e4",
   "metadata": {},
   "outputs": [],
   "source": []
  }
 ],
 "metadata": {
  "kernelspec": {
   "display_name": "venv",
   "language": "python",
   "name": "python3"
  },
  "language_info": {
   "codemirror_mode": {
    "name": "ipython",
    "version": 3
   },
   "file_extension": ".py",
   "mimetype": "text/x-python",
   "name": "python",
   "nbconvert_exporter": "python",
   "pygments_lexer": "ipython3",
   "version": "3.10.0"
  }
 },
 "nbformat": 4,
 "nbformat_minor": 5
}
