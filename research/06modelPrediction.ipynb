{
 "cells": [
  {
   "cell_type": "code",
   "execution_count": null,
   "id": "f9a37bbd",
   "metadata": {},
   "outputs": [],
   "source": []
  },
  {
   "cell_type": "code",
   "execution_count": 4,
   "id": "e4366f66",
   "metadata": {},
   "outputs": [],
   "source": [
    "import os\n",
    "%pwd\n",
    "os.chdir(\"../\")"
   ]
  },
  {
   "cell_type": "code",
   "execution_count": 5,
   "id": "388c69be",
   "metadata": {},
   "outputs": [],
   "source": [
    "import joblib\n",
    "from pathlib import Path\n",
    "import pandas as pd \n",
    "import numpy as np\n",
    "from src.datascience.pipeline.prediction_pipeline import PredictionPipeline\n"
   ]
  },
  {
   "cell_type": "code",
   "execution_count": 10,
   "id": "fef400bb",
   "metadata": {},
   "outputs": [
    {
     "name": "stdout",
     "output_type": "stream",
     "text": [
      "Score: 0.994479\n",
      "Predicted HeartDisease: 1\n"
     ]
    }
   ],
   "source": [
    "vals = [62,1,150,280,1,120,1,2.5,0,0,1,0,1,1,0]\n",
    "\n",
    "cols = [\n",
    "    \"Age\",\"Sex\",\"RestingBP\",\"Cholesterol\",\"FastingBS\",\"MaxHR\",\"ExerciseAngina\",\"Oldpeak\",\n",
    "    \"ChestPainType_ATA\",\"ChestPainType_NAP\",\"ChestPainType_TA\",\n",
    "    \"RestingECG_Normal\",\"RestingECG_ST\",\n",
    "    \"ST_Slope_Flat\",\"ST_Slope_Up\"\n",
    "]\n",
    "\n",
    "X = pd.DataFrame([vals], columns=cols)\n",
    "\n",
    "model = joblib.load(\"artifacts/model_trainer/model.joblib\")\n",
    "\n",
    "if hasattr(model, \"feature_names_in_\"):\n",
    "    expected = list(model.feature_names_in_)\n",
    "    # add missing expected cols with 0, drop extras, ensure order\n",
    "    for c in expected:\n",
    "        if c not in X.columns:\n",
    "            X[c] = 0.0\n",
    "    X = X.reindex(columns=expected)\n",
    "\n",
    "score = float(model.predict(X)[0])\n",
    "label = int(score >= 0.5)\n",
    "\n",
    "print(\"Score:\", round(score, 6))\n",
    "print(\"Predicted HeartDisease:\", label)  # 1 = at risk, 0 = no disease\n"
   ]
  },
  {
   "cell_type": "code",
   "execution_count": null,
   "id": "969c88cf",
   "metadata": {},
   "outputs": [],
   "source": []
  }
 ],
 "metadata": {
  "kernelspec": {
   "display_name": "venv",
   "language": "python",
   "name": "python3"
  },
  "language_info": {
   "codemirror_mode": {
    "name": "ipython",
    "version": 3
   },
   "file_extension": ".py",
   "mimetype": "text/x-python",
   "name": "python",
   "nbconvert_exporter": "python",
   "pygments_lexer": "ipython3",
   "version": "3.10.0"
  }
 },
 "nbformat": 4,
 "nbformat_minor": 5
}
